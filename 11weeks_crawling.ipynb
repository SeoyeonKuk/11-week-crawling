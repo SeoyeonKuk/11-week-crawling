{
  "nbformat": 4,
  "nbformat_minor": 0,
  "metadata": {
    "colab": {
      "name": "11weeks crawling.ipynb",
      "provenance": [],
      "authorship_tag": "ABX9TyOE0L0zukDx9PTws6ekcT6u",
      "include_colab_link": true
    },
    "kernelspec": {
      "name": "python3",
      "display_name": "Python 3"
    },
    "language_info": {
      "name": "python"
    }
  },
  "cells": [
    {
      "cell_type": "markdown",
      "metadata": {
        "id": "view-in-github",
        "colab_type": "text"
      },
      "source": [
        "<a href=\"https://colab.research.google.com/github/SeoyeonKuk/11-week-crawling/blob/main/11weeks_crawling.ipynb\" target=\"_parent\"><img src=\"https://colab.research.google.com/assets/colab-badge.svg\" alt=\"Open In Colab\"/></a>"
      ]
    },
    {
      "cell_type": "code",
      "execution_count": null,
      "metadata": {
        "id": "LjbCLX-PEFAx"
      },
      "outputs": [],
      "source": [
        "from urllib.request import urlopen\n",
        "from bs4 import BeautifulSoup\n",
        "\n",
        "from time import sleep\n",
        "\n",
        "set2 = dict()\n",
        "ranks = []\n",
        "scores = []\n",
        "eggs = []\n",
        "days = []\n",
        "for k in range(1, 4):\n",
        "    url = 'http://www.cgv.co.kr/movies/?lt=1&ot={}'.format(k)\n",
        "    html = urlopen(url)\n",
        "\n",
        "    soup = BeautifulSoup(html, 'lxml')\n",
        "    page = soup.find_all('option', attrs={\"title\": '현재 선택됨'})\n",
        "    page2 = page[0].get_text()\n",
        "    print(page2)\n",
        "\n",
        "    movie_bricks = soup.find_all(\"ol\")\n",
        "\n",
        "    real_time_movierank = dict()\n",
        "    real_time_moviescore = dict()\n",
        "    real_time_movieegg = dict()\n",
        "    real_time_moviesday = dict()\n",
        "\n",
        "    for movie_brick in movie_bricks:\n",
        "        movies = movie_brick.find_all('li')\n",
        "        for movie in movies:\n",
        "            # 랭킹\n",
        "            rank = movie.find(\"strong\", attrs={\"class\": \"rank\"})\n",
        "            if rank:\n",
        "                rank_text = rank.get_text()\n",
        "            else:\n",
        "                rank_text = ''\n",
        "\n",
        "            # 제목\n",
        "            title = movie.find(\"strong\", attrs={\"class\": \"title\"})\n",
        "            if title:\n",
        "                title_text = title.get_text()\n",
        "            else:\n",
        "                title_text = ''\n",
        "\n",
        "            # 예매율\n",
        "            score = movie.find(\"strong\", attrs={\"class\": \"percent\"})\n",
        "            if score:\n",
        "                score_text = score.get_text()\n",
        "            else:\n",
        "                score_text = ''\n",
        "\n",
        "            # 골든에그지수\n",
        "            eggpoint = movie.find(\"span\", attrs={\"class\": \"percent\"})\n",
        "            if eggpoint:\n",
        "                eggpoint_text = '골든에그지수' + ':' + ' ' + eggpoint.get_text()\n",
        "            else:\n",
        "                eggpoint_text = ''\n",
        "\n",
        "            # 개봉 일자\n",
        "            open_day = movie.find(\"span\", attrs={\"class\": \"txt-info\"})\n",
        "            if open_day:\n",
        "                open_day2 = open_day.strong\n",
        "                if open_day2:\n",
        "                    open_day_text = open_day2.get_text()\n",
        "                else:\n",
        "                    open_day_text = ''\n",
        "            else:\n",
        "                open_day_text = ''\n",
        "\n",
        "            real_time_movierank[rank_text] = title_text.strip()\n",
        "            real_time_moviescore[title_text] = score_text.strip()\n",
        "            real_time_movieegg[title_text] = eggpoint_text.strip()\n",
        "            real_time_moviesday[title_text] = open_day_text.strip()\n",
        "            set2[page2] = real_time_movierank\n",
        "\n",
        "            print(f'{rank_text}- {title_text} : {score_text}  {eggpoint_text}  {open_day_text}')\n",
        "\n",
        "    ranks.append(real_time_movierank)\n",
        "    scores.append(real_time_moviescore)\n",
        "    eggs.append(real_time_movieegg)\n",
        "    days.append(real_time_moviesday)\n"
      ]
    }
  ]
}